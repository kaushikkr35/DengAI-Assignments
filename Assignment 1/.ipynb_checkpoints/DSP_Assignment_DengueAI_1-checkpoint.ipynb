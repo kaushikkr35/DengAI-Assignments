{
 "cells": [
  {
   "cell_type": "markdown",
   "metadata": {},
   "source": [
    "# Assignment 1\n",
    "The questions below relate to the data files associated with the contest with the title 'DengAI: Predicting Disease Spread' published at the following website. \n",
    "https://www.drivendata.org/competitions/44/dengai-predicting-disease-spread/data/\n",
    "\n",
    "Anyone can join the contest and showcase your skills. To know about contest submissions visit the following webpage\n",
    "https://www.drivendata.org/competitions/44/dengai-predicting-disease-spread/submissions/\n",
    "\n",
    "You can showcase your Machine Learning skills by ranking top in the contest. \n",
    "\n",
    "Problem description:\n",
    "\n",
    "Your goal is to predict the total_cases label for each (city, year, weekofyear) in the test set. There are two cities, San Juan and Iquitos, with test data for each city spanning 5 and 3 years respectively. You will make one submission that contains predictions for both cities. The data for each city have been concatenated along with a city column indicating the source: sj for San Juan and iq for Iquitos. The test set is a pure future hold-out, meaning the test data are sequential and non-overlapping with any of the training data. Throughout, missing values have been filled as NaNs.\n",
    "\n",
    "Assignment:\n",
    "\n",
    "The goal is achieved through three subsequent Assignments 1, 2 and 3, all using the same dataset\n"
   ]
  },
  {
   "cell_type": "markdown",
   "metadata": {},
   "source": [
    "The features in this dataset\n",
    "You are provided the following set of information on a (year, weekofyear) timescale:\n",
    "\n",
    "(Where appropriate, units are provided as a _unit suffix on the feature name.)\n",
    "\n",
    "City and date indicators\n",
    "\n",
    "    city – City abbreviations: sj for San Juan and iq for Iquitos\n",
    "    week_start_date – Date given in yyyy-mm-dd format\n",
    "\n",
    "NOAA's GHCN daily climate data weather station measurements\n",
    "\n",
    "    station_max_temp_c – Maximum temperature\n",
    "    station_min_temp_c – Minimum temperature\n",
    "    station_avg_temp_c – Average temperature\n",
    "    station_precip_mm – Total precipitation\n",
    "    station_diur_temp_rng_c – Diurnal temperature range\n",
    "    \n",
    "PERSIANN satellite precipitation measurements (0.25x0.25 degree scale)\n",
    "\n",
    "    precipitation_amt_mm – Total precipitation\n",
    "\n",
    "NOAA's NCEP Climate Forecast System Reanalysis measurements (0.5x0.5 degree scale)\n",
    "\n",
    "    reanalysis_sat_precip_amt_mm – Total precipitation\n",
    "    reanalysis_dew_point_temp_k – Mean dew point temperature\n",
    "    reanalysis_air_temp_k – Mean air temperature\n",
    "    reanalysis_relative_humidity_percent – Mean relative humidity\n",
    "    reanalysis_specific_humidity_g_per_kg – Mean specific humidity\n",
    "    reanalysis_precip_amt_kg_per_m2 – Total precipitation\n",
    "    reanalysis_max_air_temp_k – Maximum air temperature\n",
    "    reanalysis_min_air_temp_k – Minimum air temperature\n",
    "    reanalysis_avg_temp_k – Average air temperature\n",
    "    reanalysis_tdtr_k – Diurnal temperature range\n",
    "\n",
    "Satellite vegetation - Normalized difference vegetation index (NDVI) - NOAA's CDR Normalized Difference Vegetation Index (0.5x0.5 degree scale) measurements\n",
    "\n",
    "    ndvi_se – Pixel southeast of city centroid\n",
    "    ndvi_sw – Pixel southwest of city centroid\n",
    "    ndvi_ne – Pixel northeast of city centroid\n",
    "    ndvi_nw – Pixel northwest of city centroid"
   ]
  },
  {
   "cell_type": "markdown",
   "metadata": {},
   "source": [
    "1. Load the file 'dengue_features_train.csv', display the top 3 rows and observe the data. Then programmatically define the column names to make the following changes. \n",
    "\n",
    "a). rename columns which have 'station' such that 'station' is abbreviated to 'stn' and rest of column name remains intact. For example column name 'station_diur_temp_rng_c' is renamed to 'station_diur_tmp_rng_c'\n",
    "\n",
    "b). similarly rename columns which have 'reanalysis' to abbreviate 're_an', retaining rest of column name same\n",
    "\n",
    "c). rename columns which have 'humidity' to abbreviate to 'hd', retaining rest of column name same\n",
    "\n",
    "d). abbreviate 'precipitation' part of column name to 'prec', retaining rest of column name same\n",
    "\n",
    "e). view top 3 rows and recheck if column name changes have taken effect\n",
    ")\n",
    "f). check the type of columns in dataframe\n",
    "\n",
    "g). Change the column 'year' as categorical variable and check if the column data type is changed and the levels of category are correct. As an example, 'city' is converted into categorical below with two categories (of cities)."
   ]
  },
  {
   "cell_type": "code",
   "execution_count": 2,
   "metadata": {},
   "outputs": [],
   "source": [
    "#Import pandas\n",
    "#Set working directory\n",
    "#df = pd.read_csv('dengue_features_train.csv')\n",
    "\n",
    "#df.columns = df.columns.str.replace()\n",
    "#df.city = df.city.astype('category')"
   ]
  },
  {
   "cell_type": "markdown",
   "metadata": {},
   "source": [
    "2. The predictor column (y-value) is present in the file 'dengue_labels_train.csv'. Read this file in a new dataframe and merge it with the above dataframe using city, year and weekofyear as join conditions. \n",
    "\n",
    "Count NANs in merged dataframe and use forward fill method to fill NANs (df_merged.fillna(method='ffill'))\n",
    "\n",
    "a). Do a random check by printing few values from both files and merged file\n",
    "\n",
    "b). Do a scatter plot of weekofyear on x-axis and total_cases on y-axis and observe if there is a relationship.\n",
    "\n",
    "c). Do a box plot to observe the density of data and if it complies to Central Limit Theorem (for large enough data, mean of sample is mean of population, or data is tightly packed close to the mean)\n",
    "\n",
    "d). Find the mean, min, max and standard deviation of total_cases by city\n",
    "\n",
    "e). Read the relationship between mean and standard deviation from the link given here and describe the data of total_cases by city, if there is too much variation or too little variation https://www-users.york.ac.uk/~mb55/msc/applbio/week3/sd_text.pdf"
   ]
  },
  {
   "cell_type": "code",
   "execution_count": null,
   "metadata": {},
   "outputs": [],
   "source": [
    "#df_merged = pd.merge()"
   ]
  },
  {
   "cell_type": "markdown",
   "metadata": {},
   "source": [
    "3. How many years in the city iq have greater than or equal to 50 total_cases of dengue and in which years?"
   ]
  },
  {
   "cell_type": "markdown",
   "metadata": {},
   "source": [
    "4. Optional Question (no credit, or no extra credit): Find and remove the outliers to bring the mean and standard deviation closer to each other."
   ]
  },
  {
   "cell_type": "markdown",
   "metadata": {},
   "source": [
    "5. Create a temp data frame by grouping the total_cases by weekofyear and draw a histogram of total_cases and provide insights based on the distribution. "
   ]
  },
  {
   "cell_type": "markdown",
   "metadata": {},
   "source": [
    "Extra point if all the plots have the following decorators:\n",
    "\n",
    "Plot title\n",
    "\n",
    "X-label, Y-label\n",
    "\n",
    "X-ticks and y-ticks have proper sequence matching dataset, non overlapping text\n",
    "\n",
    "Colored plots\n",
    "\n",
    "Legend, if there is grouping in plot"
   ]
  },
  {
   "cell_type": "code",
   "execution_count": null,
   "metadata": {},
   "outputs": [],
   "source": []
  }
 ],
 "metadata": {
  "kernelspec": {
   "display_name": "Python 3",
   "language": "python",
   "name": "python3"
  },
  "language_info": {
   "codemirror_mode": {
    "name": "ipython",
    "version": 3
   },
   "file_extension": ".py",
   "mimetype": "text/x-python",
   "name": "python",
   "nbconvert_exporter": "python",
   "pygments_lexer": "ipython3",
   "version": "3.7.6"
  }
 },
 "nbformat": 4,
 "nbformat_minor": 2
}
