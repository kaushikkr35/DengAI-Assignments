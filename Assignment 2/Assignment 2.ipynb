{
 "cells": [
  {
   "cell_type": "code",
   "execution_count": 1,
   "metadata": {},
   "outputs": [],
   "source": [
    "import numpy as np\n",
    "import pandas as pd\n",
    "import matplotlib as mpl\n",
    "import matplotlib.pyplot as plt\n",
    "import os"
   ]
  },
  {
   "cell_type": "code",
   "execution_count": 2,
   "metadata": {},
   "outputs": [
    {
     "data": {
      "text/plain": [
       "'D:\\\\Learning\\\\USF - Data Science Programming\\\\Assignment 2'"
      ]
     },
     "execution_count": 2,
     "metadata": {},
     "output_type": "execute_result"
    }
   ],
   "source": [
    "#Checking working directory\n",
    "os.getcwd()"
   ]
  },
  {
   "cell_type": "code",
   "execution_count": 50,
   "metadata": {},
   "outputs": [],
   "source": [
    "#Recreating the merged dataframe from Assignment 1\n",
    "df = pd.read_csv(\"dengue_features_train.csv\")\n",
    "df_rn = df.copy()\n",
    "df_rn.columns = df_rn.columns.str.replace('station', 'stn')\n",
    "df_rn.columns = df_rn.columns.str.replace('precip', 'prec')\n",
    "df_rn.columns = df_rn.columns.str.replace('humidity', 'hd')\n",
    "df_rn.columns = df_rn.columns.str.replace('reanalysis', 're_an')\n",
    "df_rn.year = df_rn.year.astype('category')\n",
    "df_pred = pd.read_csv(\"dengue_labels_train.csv\")\n",
    "df_merged = pd.merge(df_rn, df_pred, on=['city','year','weekofyear'], how='outer')\n",
    "df_merged = df_merged.fillna(method='ffill')"
   ]
  },
  {
   "cell_type": "code",
   "execution_count": 108,
   "metadata": {},
   "outputs": [],
   "source": [
    "#Creating a copy of the dataframe to work on \n",
    "df_copy = df_merged.copy()"
   ]
  },
  {
   "cell_type": "code",
   "execution_count": 109,
   "metadata": {},
   "outputs": [],
   "source": [
    "#Changing types of 'city' and 'weekstartdate' for further computations\n",
    "df_copy['city'] = df_copy['city'].astype('category')\n",
    "df_copy['week_start_date'] = df_copy['week_start_date'].astype('datetime64[ns]')"
   ]
  },
  {
   "cell_type": "code",
   "execution_count": 110,
   "metadata": {},
   "outputs": [],
   "source": [
    "#Extracting month from 'weekstartdate' and dropping the variable\n",
    "df_copy['month'] = df_copy['week_start_date'].dt.month\n",
    "df_copy = df_copy.drop(['week_start_date'], axis = 1)"
   ]
  },
  {
   "cell_type": "code",
   "execution_count": 111,
   "metadata": {},
   "outputs": [
    {
     "data": {
      "text/plain": [
       "<matplotlib.axes._subplots.AxesSubplot at 0x2b56cd138c8>"
      ]
     },
     "execution_count": 111,
     "metadata": {},
     "output_type": "execute_result"
    },
    {
     "data": {
      "image/png": "[encoded data removed]",
      "text/plain": [
       "<Figure size 432x288 with 1 Axes>"
      ]
     },
     "metadata": {
      "needs_background": "light"
     },
     "output_type": "display_data"
    }
   ],
   "source": [
    "#Checking for correlation between months of the year and the target variable\n",
    "df_copy.plot.scatter(x = \"month\",\n",
    "                    y = \"total_cases\")"
   ]
  },
  {
   "cell_type": "code",
   "execution_count": 54,
   "metadata": {
    "scrolled": false
   },
   "outputs": [
    {
     "name": "stdout",
     "output_type": "stream",
     "text": [
      "<class 'pandas.core.frame.DataFrame'>\n",
      "Int64Index: 1456 entries, 0 to 1455\n",
      "Data columns (total 25 columns):\n",
      " #   Column                      Non-Null Count  Dtype   \n",
      "---  ------                      --------------  -----   \n",
      " 0   city                        1456 non-null   category\n",
      " 1   year                        1456 non-null   int64   \n",
      " 2   weekofyear                  1456 non-null   int64   \n",
      " 3   ndvi_ne                     1456 non-null   float64 \n",
      " 4   ndvi_nw                     1456 non-null   float64 \n",
      " 5   ndvi_se                     1456 non-null   float64 \n",
      " 6   ndvi_sw                     1456 non-null   float64 \n",
      " 7   precitation_amt_mm          1456 non-null   float64 \n",
      " 8   re_an_air_temp_k            1456 non-null   float64 \n",
      " 9   re_an_avg_temp_k            1456 non-null   float64 \n",
      " 10  re_an_dew_point_temp_k      1456 non-null   float64 \n",
      " 11  re_an_max_air_temp_k        1456 non-null   float64 \n",
      " 12  re_an_min_air_temp_k        1456 non-null   float64 \n",
      " 13  re_an_prec_amt_kg_per_m2    1456 non-null   float64 \n",
      " 14  re_an_relative_hd_percent   1456 non-null   float64 \n",
      " 15  re_an_sat_prec_amt_mm       1456 non-null   float64 \n",
      " 16  re_an_specific_hd_g_per_kg  1456 non-null   float64 \n",
      " 17  re_an_tdtr_k                1456 non-null   float64 \n",
      " 18  stn_avg_temp_c              1456 non-null   float64 \n",
      " 19  stn_diur_temp_rng_c         1456 non-null   float64 \n",
      " 20  stn_max_temp_c              1456 non-null   float64 \n",
      " 21  stn_min_temp_c              1456 non-null   float64 \n",
      " 22  stn_prec_mm                 1456 non-null   float64 \n",
      " 23  total_cases                 1456 non-null   int64   \n",
      " 24  month                       1456 non-null   int64   \n",
      "dtypes: category(1), float64(20), int64(4)\n",
      "memory usage: 285.9 KB\n"
     ]
    }
   ],
   "source": [
    "#Verifying if the changes to types have been effected\n",
    "df_copy.info()"
   ]
  },
  {
   "cell_type": "code",
   "execution_count": 80,
   "metadata": {},
   "outputs": [],
   "source": [
    "#Copying the names of all columns to a list\n",
    "cols = df_copy.columns.to_list()"
   ]
  },
  {
   "cell_type": "code",
   "execution_count": 65,
   "metadata": {},
   "outputs": [],
   "source": [
    "#Rearranging the column indexes to make the split into X,y easier\n",
    "cols = cols[-2:] + cols[:-2]"
   ]
  },
  {
   "cell_type": "code",
   "execution_count": 104,
   "metadata": {
    "collapsed": true
   },
   "outputs": [
    {
     "ename": "AttributeError",
     "evalue": "'DataFrame' object has no attribute 'month'",
     "output_type": "error",
     "traceback": [
      "\u001b[1;31m---------------------------------------------------------------------------\u001b[0m",
      "\u001b[1;31mAttributeError\u001b[0m                            Traceback (most recent call last)",
      "\u001b[1;32m<ipython-input-104-ea727c541cad>\u001b[0m in \u001b[0;36m<module>\u001b[1;34m\u001b[0m\n\u001b[0;32m      1\u001b[0m \u001b[1;31m#Trying to convert the month into a cyclical variable\u001b[0m\u001b[1;33m\u001b[0m\u001b[1;33m\u001b[0m\u001b[1;33m\u001b[0m\u001b[0m\n\u001b[1;32m----> 2\u001b[1;33m \u001b[0mdf_copy\u001b[0m\u001b[1;33m[\u001b[0m\u001b[1;34m\"month_sin\"\u001b[0m\u001b[1;33m]\u001b[0m \u001b[1;33m=\u001b[0m \u001b[0mnp\u001b[0m\u001b[1;33m.\u001b[0m\u001b[0msin\u001b[0m\u001b[1;33m(\u001b[0m\u001b[1;33m(\u001b[0m\u001b[0mdf_copy\u001b[0m\u001b[1;33m.\u001b[0m\u001b[0mmonth\u001b[0m\u001b[1;33m-\u001b[0m\u001b[1;36m1\u001b[0m\u001b[1;33m)\u001b[0m\u001b[1;33m*\u001b[0m\u001b[1;33m(\u001b[0m\u001b[1;36m2.\u001b[0m\u001b[1;33m*\u001b[0m\u001b[0mnp\u001b[0m\u001b[1;33m.\u001b[0m\u001b[0mpi\u001b[0m\u001b[1;33m/\u001b[0m\u001b[1;36m12\u001b[0m\u001b[1;33m)\u001b[0m\u001b[1;33m)\u001b[0m\u001b[1;33m\u001b[0m\u001b[1;33m\u001b[0m\u001b[0m\n\u001b[0m\u001b[0;32m      3\u001b[0m \u001b[0mdf_copy\u001b[0m\u001b[1;33m[\u001b[0m\u001b[1;34m\"month_cos\"\u001b[0m\u001b[1;33m]\u001b[0m \u001b[1;33m=\u001b[0m \u001b[0mnp\u001b[0m\u001b[1;33m.\u001b[0m\u001b[0mcos\u001b[0m\u001b[1;33m(\u001b[0m\u001b[1;33m(\u001b[0m\u001b[0mdf_copy\u001b[0m\u001b[1;33m.\u001b[0m\u001b[0mmonth\u001b[0m\u001b[1;33m-\u001b[0m\u001b[1;36m1\u001b[0m\u001b[1;33m)\u001b[0m\u001b[1;33m*\u001b[0m\u001b[1;33m(\u001b[0m\u001b[1;36m2.\u001b[0m\u001b[1;33m*\u001b[0m\u001b[0mnp\u001b[0m\u001b[1;33m.\u001b[0m\u001b[0mpi\u001b[0m\u001b[1;33m/\u001b[0m\u001b[1;36m12\u001b[0m\u001b[1;33m)\u001b[0m\u001b[1;33m)\u001b[0m\u001b[1;33m\u001b[0m\u001b[1;33m\u001b[0m\u001b[0m\n",
      "\u001b[1;32m~\\Anaconda3\\lib\\site-packages\\pandas\\core\\generic.py\u001b[0m in \u001b[0;36m__getattr__\u001b[1;34m(self, name)\u001b[0m\n\u001b[0;32m   5272\u001b[0m             \u001b[1;32mif\u001b[0m \u001b[0mself\u001b[0m\u001b[1;33m.\u001b[0m\u001b[0m_info_axis\u001b[0m\u001b[1;33m.\u001b[0m\u001b[0m_can_hold_identifiers_and_holds_name\u001b[0m\u001b[1;33m(\u001b[0m\u001b[0mname\u001b[0m\u001b[1;33m)\u001b[0m\u001b[1;33m:\u001b[0m\u001b[1;33m\u001b[0m\u001b[1;33m\u001b[0m\u001b[0m\n\u001b[0;32m   5273\u001b[0m                 \u001b[1;32mreturn\u001b[0m \u001b[0mself\u001b[0m\u001b[1;33m[\u001b[0m\u001b[0mname\u001b[0m\u001b[1;33m]\u001b[0m\u001b[1;33m\u001b[0m\u001b[1;33m\u001b[0m\u001b[0m\n\u001b[1;32m-> 5274\u001b[1;33m             \u001b[1;32mreturn\u001b[0m \u001b[0mobject\u001b[0m\u001b[1;33m.\u001b[0m\u001b[0m__getattribute__\u001b[0m\u001b[1;33m(\u001b[0m\u001b[0mself\u001b[0m\u001b[1;33m,\u001b[0m \u001b[0mname\u001b[0m\u001b[1;33m)\u001b[0m\u001b[1;33m\u001b[0m\u001b[1;33m\u001b[0m\u001b[0m\n\u001b[0m\u001b[0;32m   5275\u001b[0m \u001b[1;33m\u001b[0m\u001b[0m\n\u001b[0;32m   5276\u001b[0m     \u001b[1;32mdef\u001b[0m \u001b[0m__setattr__\u001b[0m\u001b[1;33m(\u001b[0m\u001b[0mself\u001b[0m\u001b[1;33m,\u001b[0m \u001b[0mname\u001b[0m\u001b[1;33m:\u001b[0m \u001b[0mstr\u001b[0m\u001b[1;33m,\u001b[0m \u001b[0mvalue\u001b[0m\u001b[1;33m)\u001b[0m \u001b[1;33m->\u001b[0m \u001b[1;32mNone\u001b[0m\u001b[1;33m:\u001b[0m\u001b[1;33m\u001b[0m\u001b[1;33m\u001b[0m\u001b[0m\n",
      "\u001b[1;31mAttributeError\u001b[0m: 'DataFrame' object has no attribute 'month'"
     ]
    }
   ],
   "source": [
    "#Trying to convert the month into a cyclical variable \n",
    "#https://datascience.stackexchange.com/questions/5990/what-is-a-good-way-to-transform-cyclic-ordinal-attributes\n",
    "df_copy[\"month_sin\"] = np.sin((df_copy.month-1)*(2.*np.pi/12))\n",
    "df_copy[\"month_cos\"] = np.cos((df_copy.month-1)*(2.*np.pi/12))"
   ]
  },
  {
   "cell_type": "code",
   "execution_count": 57,
   "metadata": {},
   "outputs": [],
   "source": [
    "#Dropping month variable since it is now cyclically converted\n",
    "df_copy = df_copy.drop(['month'], axis = 1)"
   ]
  },
  {
   "cell_type": "code",
   "execution_count": 58,
   "metadata": {},
   "outputs": [],
   "source": [
    "#Dropping the 'weekofyear' variable\n",
    "df_copy = df_copy.drop(['weekofyear'], axis = 1)"
   ]
  },
  {
   "cell_type": "code",
   "execution_count": 105,
   "metadata": {
    "scrolled": true
   },
   "outputs": [
    {
     "name": "stdout",
     "output_type": "stream",
     "text": [
      "['city', 'year']\n",
      "['ndvi_ne', 'ndvi_nw', 'ndvi_se', 'ndvi_sw', 'precitation_amt_mm', 're_an_air_temp_k', 're_an_avg_temp_k', 're_an_dew_point_temp_k', 're_an_max_air_temp_k', 're_an_min_air_temp_k', 're_an_prec_amt_kg_per_m2', 're_an_relative_hd_percent', 're_an_sat_prec_amt_mm', 're_an_specific_hd_g_per_kg', 're_an_tdtr_k', 'stn_avg_temp_c', 'stn_diur_temp_rng_c', 'stn_max_temp_c', 'stn_min_temp_c', 'stn_prec_mm', 'month_sin', 'month_cos']\n"
     ]
    }
   ],
   "source": [
    "#Storing all the categorical and numerical variables in two separate lists for encoding & standardizing respectively\n",
    "cat_cols = [\"city\", \"year\"]\n",
    "num_cols = [\"ndvi_ne\", \"ndvi_nw\", \"ndvi_se\", \"ndvi_sw\", \"precitation_amt_mm\", \"re_an_air_temp_k\",\n",
    "           \"re_an_avg_temp_k\",\n",
    "           \"re_an_dew_point_temp_k\",\n",
    "           \"re_an_max_air_temp_k\",\n",
    "           \"re_an_min_air_temp_k\",\n",
    "           \"re_an_prec_amt_kg_per_m2\",\n",
    "           \"re_an_relative_hd_percent\",\n",
    "           \"re_an_sat_prec_amt_mm\",\n",
    "           \"re_an_specific_hd_g_per_kg\",\n",
    "           \"re_an_tdtr_k\",\n",
    "           \"stn_avg_temp_c\",\n",
    "           \"stn_diur_temp_rng_c\",\n",
    "           \"stn_max_temp_c\",\n",
    "           \"stn_min_temp_c\",\n",
    "           \"stn_prec_mm\",\n",
    "           \"month_sin\",\n",
    "           \"month_cos\"]\n",
    "\n",
    "print(cat_cols)\n",
    "print(num_cols)"
   ]
  },
  {
   "cell_type": "code",
   "execution_count": 60,
   "metadata": {},
   "outputs": [],
   "source": [
    "#Storing the target variable 'total cases' in y\n",
    "y = df_copy[\"total_cases\"]"
   ]
  },
  {
   "cell_type": "code",
   "execution_count": 66,
   "metadata": {},
   "outputs": [],
   "source": [
    "#Storing all the columns of modified 'merged' dataframe in X\n",
    "X = df_copy[cols]"
   ]
  },
  {
   "cell_type": "code",
   "execution_count": 70,
   "metadata": {},
   "outputs": [],
   "source": [
    "#Removing the target column from the 'X' dataframe\n",
    "X = X.iloc[:,:24]"
   ]
  },
  {
   "cell_type": "code",
   "execution_count": 81,
   "metadata": {
    "scrolled": true
   },
   "outputs": [
    {
     "name": "stdout",
     "output_type": "stream",
     "text": [
      "<class 'pandas.core.frame.DataFrame'>\n",
      "Int64Index: 1456 entries, 0 to 1455\n",
      "Data columns (total 24 columns):\n",
      " #   Column                      Non-Null Count  Dtype   \n",
      "---  ------                      --------------  -----   \n",
      " 0   month_sin                   1456 non-null   float64 \n",
      " 1   month_cos                   1456 non-null   float64 \n",
      " 2   city                        1456 non-null   category\n",
      " 3   year                        1456 non-null   int64   \n",
      " 4   ndvi_ne                     1456 non-null   float64 \n",
      " 5   ndvi_nw                     1456 non-null   float64 \n",
      " 6   ndvi_se                     1456 non-null   float64 \n",
      " 7   ndvi_sw                     1456 non-null   float64 \n",
      " 8   precitation_amt_mm          1456 non-null   float64 \n",
      " 9   re_an_air_temp_k            1456 non-null   float64 \n",
      " 10  re_an_avg_temp_k            1456 non-null   float64 \n",
      " 11  re_an_dew_point_temp_k      1456 non-null   float64 \n",
      " 12  re_an_max_air_temp_k        1456 non-null   float64 \n",
      " 13  re_an_min_air_temp_k        1456 non-null   float64 \n",
      " 14  re_an_prec_amt_kg_per_m2    1456 non-null   float64 \n",
      " 15  re_an_relative_hd_percent   1456 non-null   float64 \n",
      " 16  re_an_sat_prec_amt_mm       1456 non-null   float64 \n",
      " 17  re_an_specific_hd_g_per_kg  1456 non-null   float64 \n",
      " 18  re_an_tdtr_k                1456 non-null   float64 \n",
      " 19  stn_avg_temp_c              1456 non-null   float64 \n",
      " 20  stn_diur_temp_rng_c         1456 non-null   float64 \n",
      " 21  stn_max_temp_c              1456 non-null   float64 \n",
      " 22  stn_min_temp_c              1456 non-null   float64 \n",
      " 23  stn_prec_mm                 1456 non-null   float64 \n",
      "dtypes: category(1), float64(22), int64(1)\n",
      "memory usage: 274.5 KB\n"
     ]
    }
   ],
   "source": [
    "#Verifying if the operations have been performed correctly\n",
    "X.info()"
   ]
  },
  {
   "cell_type": "code",
   "execution_count": 83,
   "metadata": {},
   "outputs": [],
   "source": [
    "#Creating a 80:20 stratified train-test split based on the City \n",
    "from sklearn.model_selection import train_test_split\n",
    "X_train, X_test, y_train, y_test = train_test_split(X, y, stratify = X[\"city\"], test_size = 0.2, random_state = 42, shuffle = True)"
   ]
  },
  {
   "cell_type": "code",
   "execution_count": 88,
   "metadata": {},
   "outputs": [],
   "source": [
    "#Importing the StandardScaler and OneHotEncoder for pre-processing the numerical & categorical variables respectively\n",
    "from sklearn.preprocessing import OneHotEncoder\n",
    "from sklearn.preprocessing import StandardScaler\n",
    "\n",
    "ss = StandardScaler()\n",
    "ohe = OneHotEncoder(sparse=False)\n",
    "\n",
    "#Transforming the training data\n",
    "X_tr_scaled_cols = ss.fit_transform(X_train[num_cols])\n",
    "X_tr_encoded_cols = ohe.fit_transform(X_train[cat_cols])"
   ]
  },
  {
   "cell_type": "code",
   "execution_count": 101,
   "metadata": {},
   "outputs": [],
   "source": [
    "#Transforming the test data\n",
    "X_test_scaled_cols = ss.transform(X_test[num_cols])\n",
    "X_test_encoded_cols = ohe.transform(X_test[cat_cols])"
   ]
  },
  {
   "cell_type": "code",
   "execution_count": 97,
   "metadata": {},
   "outputs": [],
   "source": [
    "#Concatenating the numerical & categorical variables in the training set\n",
    "X_tr_scaled = np.concatenate([X_tr_scaled_cols, X_tr_encoded_cols], axis = 1)"
   ]
  },
  {
   "cell_type": "code",
   "execution_count": 102,
   "metadata": {},
   "outputs": [],
   "source": [
    "#Concatenating the numerical & categorical variables in the test set\n",
    "X_test_scaled = np.concatenate([X_test_scaled_cols, X_test_encoded_cols], axis = 1)"
   ]
  },
  {
   "cell_type": "code",
   "execution_count": 147,
   "metadata": {},
   "outputs": [],
   "source": [
    "from sklearn.linear_model import SGDRegressor\n",
    "sgd_reg = SGDRegressor(random_state=42, max_iter=10000, penalty=None, tol=1e-3)"
   ]
  },
  {
   "cell_type": "code",
   "execution_count": 140,
   "metadata": {},
   "outputs": [
    {
     "data": {
      "text/plain": [
       "SGDRegressor(alpha=0.0001, average=False, early_stopping=False, epsilon=0.1,\n",
       "             eta0=0.01, fit_intercept=True, l1_ratio=0.15,\n",
       "             learning_rate='invscaling', loss='squared_loss', max_iter=1000,\n",
       "             n_iter_no_change=5, penalty=None, power_t=0.25, random_state=42,\n",
       "             shuffle=True, tol=0.001, validation_fraction=0.1, verbose=0,\n",
       "             warm_start=False)"
      ]
     },
     "execution_count": 140,
     "metadata": {},
     "output_type": "execute_result"
    }
   ],
   "source": [
    "sgd_reg.fit(X_tr_scaled, y_train)"
   ]
  },
  {
   "cell_type": "code",
   "execution_count": 141,
   "metadata": {},
   "outputs": [
    {
     "data": {
      "text/plain": [
       "(array([16.72081643]),\n",
       " array([ -4.10186122,   1.80131567,  -7.66304385,   7.18373393,\n",
       "         -0.10189045,   4.3017746 ,  -6.17573048,   1.62993122,\n",
       "         -2.38182903,  -5.6051548 ,  -1.35486251,  -0.0846033 ,\n",
       "         -0.10189045,   3.42756159,  -0.49032455,   7.25943078,\n",
       "         -6.9507036 ,   3.03578045,  -2.91627902,  -0.65242032,\n",
       "        -13.11735453,   5.27159607,   1.37342703,  15.3473894 ,\n",
       "        -10.66633171,  17.40723259,   9.17231634, -11.80630507,\n",
       "         79.30011541,  -7.54187308, -16.06775028,  -4.92894308,\n",
       "         58.69214416,   0.21933714, -13.07352263, -10.01852014,\n",
       "        -12.05596668, -15.29085065, -13.9316697 ,  -4.43996798,\n",
       "        -13.19544471,  -1.43793834,  -3.30631103, -10.136714  ,\n",
       "         -0.17222013]))"
      ]
     },
     "execution_count": 141,
     "metadata": {},
     "output_type": "execute_result"
    }
   ],
   "source": [
    "sgd_reg.intercept_, sgd_reg.coef_"
   ]
  },
  {
   "cell_type": "code",
   "execution_count": 142,
   "metadata": {},
   "outputs": [],
   "source": [
    "y_predict = sgd_reg.predict(X_tr_scaled)"
   ]
  },
  {
   "cell_type": "code",
   "execution_count": 143,
   "metadata": {},
   "outputs": [
    {
     "data": {
      "text/plain": [
       "array([  4.30637182,  27.22295717,   5.0631674 ,   6.20759063,\n",
       "        13.02461171, -27.87889509,  16.6885366 ,  46.91928343,\n",
       "        23.10765154, 104.80107845])"
      ]
     },
     "execution_count": 143,
     "metadata": {},
     "output_type": "execute_result"
    }
   ],
   "source": [
    "y_predict[:10]"
   ]
  },
  {
   "cell_type": "code",
   "execution_count": 144,
   "metadata": {},
   "outputs": [
    {
     "data": {
      "text/plain": [
       "1449     7\n",
       "295     23\n",
       "571      6\n",
       "306      4\n",
       "823      7\n",
       "1247     0\n",
       "962      0\n",
       "382     47\n",
       "1130     3\n",
       "437     80\n",
       "Name: total_cases, dtype: int64"
      ]
     },
     "execution_count": 144,
     "metadata": {},
     "output_type": "execute_result"
    }
   ],
   "source": [
    "y_train[:10]"
   ]
  },
  {
   "cell_type": "code",
   "execution_count": 145,
   "metadata": {},
   "outputs": [
    {
     "data": {
      "text/plain": [
       "947.5613636988219"
      ]
     },
     "execution_count": 145,
     "metadata": {},
     "output_type": "execute_result"
    }
   ],
   "source": [
    "from sklearn.metrics import mean_squared_error\n",
    "\n",
    "mse = mean_squared_error(y_train, y_predict)\n",
    "mse"
   ]
  },
  {
   "cell_type": "code",
   "execution_count": 146,
   "metadata": {},
   "outputs": [
    {
     "data": {
      "text/plain": [
       "30.782484690141924"
      ]
     },
     "execution_count": 146,
     "metadata": {},
     "output_type": "execute_result"
    }
   ],
   "source": [
    "np.sqrt(mse)"
   ]
  }
 ],
 "metadata": {
  "kernelspec": {
   "display_name": "Python 3",
   "language": "python",
   "name": "python3"
  },
  "language_info": {
   "codemirror_mode": {
    "name": "ipython",
    "version": 3
   },
   "file_extension": ".py",
   "mimetype": "text/x-python",
   "name": "python",
   "nbconvert_exporter": "python",
   "pygments_lexer": "ipython3",
   "version": "3.7.6"
  }
 },
 "nbformat": 4,
 "nbformat_minor": 4
}
